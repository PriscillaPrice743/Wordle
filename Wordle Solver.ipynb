{
 "cells": [
  {
   "cell_type": "code",
   "execution_count": 1,
   "metadata": {},
   "outputs": [],
   "source": [
    "import numpy as np"
   ]
  },
  {
   "cell_type": "markdown",
   "metadata": {},
   "source": [
    "# Getting valid words and user input"
   ]
  },
  {
   "cell_type": "code",
   "execution_count": 2,
   "metadata": {},
   "outputs": [
    {
     "data": {
      "text/plain": [
       "chararray([['a', 'a', 'h', 'e', 'd'],\n",
       "           ['a', 'a', 'l', 'i', 'i'],\n",
       "           ['a', 'a', 'r', 'g', 'h'],\n",
       "           ...,\n",
       "           ['z', 'y', 'g', 'o', 'n'],\n",
       "           ['z', 'y', 'm', 'e', 's'],\n",
       "           ['z', 'y', 'm', 'i', 'c']], dtype='<U1')"
      ]
     },
     "execution_count": 2,
     "metadata": {},
     "output_type": "execute_result"
    }
   ],
   "source": [
    "def get_all_valid_words():\n",
    "    filename = \"data/valid-words.txt\"\n",
    "    with open(filename, mode=\"r\") as f:\n",
    "        lines = f.read().split()\n",
    "\n",
    "    words = np.char.array([list(word) for word in lines])\n",
    "    return words\n",
    "\n",
    "words = get_all_valid_words()\n",
    "words"
   ]
  },
  {
   "cell_type": "code",
   "execution_count": 3,
   "metadata": {},
   "outputs": [
    {
     "name": "stdout",
     "output_type": "stream",
     "text": [
      "\n",
      "Guess:  crane\n",
      "Colors: gbbyg\n"
     ]
    },
    {
     "data": {
      "text/plain": [
       "(chararray(['c', 'r', 'a', 'n', 'e'], dtype='<U1'),\n",
       " chararray(['g', 'b', 'b', 'y', 'g'], dtype='<U1'))"
      ]
     },
     "execution_count": 3,
     "metadata": {},
     "output_type": "execute_result"
    }
   ],
   "source": [
    "def get_guess_colors():\n",
    "    guess = input(\"\\nGuess:  \")\n",
    "    colors = input(\"Colors: \")\n",
    "\n",
    "    guess_vector = np.char.array(list(guess))\n",
    "    colors_vector = np.char.array(list(colors))\n",
    "\n",
    "    return (guess_vector, colors_vector)\n",
    "\n",
    "guess, colors = get_guess_colors()\n",
    "guess, colors"
   ]
  },
  {
   "cell_type": "markdown",
   "metadata": {},
   "source": [
    "# Filter"
   ]
  },
  {
   "cell_type": "markdown",
   "metadata": {},
   "source": [
    "## Green"
   ]
  },
  {
   "cell_type": "code",
   "execution_count": 4,
   "metadata": {},
   "outputs": [
    {
     "data": {
      "text/plain": [
       "chararray([['c', 'a', 'b', 'l', 'e'],\n",
       "           ['c', 'a', 'b', 'r', 'e'],\n",
       "           ['c', 'a', 'c', 'h', 'e'],\n",
       "           ['c', 'a', 'd', 'e', 'e'],\n",
       "           ['c', 'a', 'd', 'g', 'e'],\n",
       "           ['c', 'a', 'd', 'i', 'e'],\n",
       "           ['c', 'a', 'd', 'r', 'e'],\n",
       "           ['c', 'a', 'e', 's', 'e'],\n",
       "           ['c', 'a', 'l', 'v', 'e'],\n",
       "           ['c', 'a', 'n', 'o', 'e'],\n",
       "           ['c', 'a', 'p', 'l', 'e'],\n",
       "           ['c', 'a', 'r', 'l', 'e'],\n",
       "           ['c', 'a', 'r', 's', 'e'],\n",
       "           ['c', 'a', 'r', 't', 'e'],\n",
       "           ['c', 'a', 'r', 'v', 'e'],\n",
       "           ['c', 'a', 's', 't', 'e'],\n",
       "           ['c', 'a', 'u', 's', 'e'],\n",
       "           ['c', 'a', 'v', 'i', 'e'],\n",
       "           ['c', 'e', 'a', 's', 'e'],\n",
       "           ['c', 'e', 'a', 'z', 'e'],\n",
       "           ['c', 'e', 'n', 's', 'e'],\n",
       "           ['c', 'e', 'r', 'g', 'e'],\n",
       "           ['c', 'e', 'r', 'n', 'e'],\n",
       "           ['c', 'e', 's', 's', 'e'],\n",
       "           ['c', 'e', 'z', 'v', 'e'],\n",
       "           ['c', 'h', 'a', 'c', 'e'],\n",
       "           ['c', 'h', 'a', 'f', 'e'],\n",
       "           ['c', 'h', 'a', 'p', 'e'],\n",
       "           ['c', 'h', 'a', 'r', 'e'],\n",
       "           ['c', 'h', 'a', 's', 'e'],\n",
       "           ['c', 'h', 'a', 'v', 'e'],\n",
       "           ['c', 'h', 'e', 'r', 'e'],\n",
       "           ['c', 'h', 'i', 'd', 'e'],\n",
       "           ['c', 'h', 'i', 'l', 'e'],\n",
       "           ['c', 'h', 'i', 'm', 'e'],\n",
       "           ['c', 'h', 'i', 'n', 'e'],\n",
       "           ['c', 'h', 'i', 'v', 'e'],\n",
       "           ['c', 'h', 'o', 'd', 'e'],\n",
       "           ['c', 'h', 'o', 'k', 'e'],\n",
       "           ['c', 'h', 'o', 'r', 'e'],\n",
       "           ['c', 'h', 'o', 's', 'e'],\n",
       "           ['c', 'h', 'u', 's', 'e'],\n",
       "           ['c', 'h', 'u', 't', 'e'],\n",
       "           ['c', 'h', 'y', 'l', 'e'],\n",
       "           ['c', 'h', 'y', 'm', 'e'],\n",
       "           ['c', 'i', 'v', 'i', 'e'],\n",
       "           ['c', 'l', 'a', 'd', 'e'],\n",
       "           ['c', 'l', 'a', 'm', 'e'],\n",
       "           ['c', 'l', 'a', 'v', 'e'],\n",
       "           ['c', 'l', 'e', 'p', 'e'],\n",
       "           ['c', 'l', 'e', 'v', 'e'],\n",
       "           ['c', 'l', 'i', 'm', 'e'],\n",
       "           ['c', 'l', 'i', 'n', 'e'],\n",
       "           ['c', 'l', 'i', 'p', 'e'],\n",
       "           ['c', 'l', 'o', 'k', 'e'],\n",
       "           ['c', 'l', 'o', 'n', 'e'],\n",
       "           ['c', 'l', 'o', 's', 'e'],\n",
       "           ['c', 'l', 'o', 't', 'e'],\n",
       "           ['c', 'l', 'o', 'v', 'e'],\n",
       "           ['c', 'l', 'o', 'y', 'e'],\n",
       "           ['c', 'l', 'o', 'z', 'e'],\n",
       "           ['c', 'l', 'y', 'p', 'e'],\n",
       "           ['c', 'o', 'a', 't', 'e'],\n",
       "           ['c', 'o', 'b', 'l', 'e'],\n",
       "           ['c', 'o', 'g', 'i', 'e'],\n",
       "           ['c', 'o', 'g', 'u', 'e'],\n",
       "           ['c', 'o', 'h', 'o', 'e'],\n",
       "           ['c', 'o', 'm', 'a', 'e'],\n",
       "           ['c', 'o', 'm', 'b', 'e'],\n",
       "           ['c', 'o', 'm', 't', 'e'],\n",
       "           ['c', 'o', 'n', 'g', 'e'],\n",
       "           ['c', 'o', 'n', 'n', 'e'],\n",
       "           ['c', 'o', 'n', 't', 'e'],\n",
       "           ['c', 'o', 'o', 'e', 'e'],\n",
       "           ['c', 'o', 'o', 'z', 'e'],\n",
       "           ['c', 'o', 'p', 's', 'e'],\n",
       "           ['c', 'o', 'r', 'b', 'e'],\n",
       "           ['c', 'o', 'r', 's', 'e'],\n",
       "           ['c', 'o', 's', 'i', 'e'],\n",
       "           ['c', 'o', 's', 't', 'e'],\n",
       "           ['c', 'o', 'u', 'd', 'e'],\n",
       "           ['c', 'o', 'u', 'p', 'e'],\n",
       "           ['c', 'o', 'u', 'r', 'e'],\n",
       "           ['c', 'o', 'x', 'a', 'e'],\n",
       "           ['c', 'o', 'z', 'i', 'e'],\n",
       "           ['c', 'r', 'a', 'k', 'e'],\n",
       "           ['c', 'r', 'a', 'm', 'e'],\n",
       "           ['c', 'r', 'a', 'n', 'e'],\n",
       "           ['c', 'r', 'a', 'p', 'e'],\n",
       "           ['c', 'r', 'a', 'r', 'e'],\n",
       "           ['c', 'r', 'a', 't', 'e'],\n",
       "           ['c', 'r', 'a', 'v', 'e'],\n",
       "           ['c', 'r', 'a', 'z', 'e'],\n",
       "           ['c', 'r', 'e', 'm', 'e'],\n",
       "           ['c', 'r', 'e', 'p', 'e'],\n",
       "           ['c', 'r', 'e', 'w', 'e'],\n",
       "           ['c', 'r', 'i', 'm', 'e'],\n",
       "           ['c', 'r', 'i', 'n', 'e'],\n",
       "           ['c', 'r', 'i', 'p', 'e'],\n",
       "           ['c', 'r', 'i', 's', 'e'],\n",
       "           ['c', 'r', 'o', 'm', 'e'],\n",
       "           ['c', 'r', 'o', 'n', 'e'],\n",
       "           ['c', 'r', 'o', 'r', 'e'],\n",
       "           ['c', 'r', 'o', 'z', 'e'],\n",
       "           ['c', 'r', 'u', 'd', 'e'],\n",
       "           ['c', 'r', 'u', 's', 'e'],\n",
       "           ['c', 'r', 'u', 'v', 'e'],\n",
       "           ['c', 't', 'e', 'n', 'e'],\n",
       "           ['c', 'u', 'r', 'i', 'e'],\n",
       "           ['c', 'u', 'r', 's', 'e'],\n",
       "           ['c', 'u', 'r', 'v', 'e'],\n",
       "           ['c', 'u', 't', 'i', 'e'],\n",
       "           ['c', 'u', 'v', 'e', 'e'],\n",
       "           ['c', 'y', 'c', 'l', 'e'],\n",
       "           ['c', 'y', 'm', 'a', 'e']], dtype='<U1')"
      ]
     },
     "execution_count": 4,
     "metadata": {},
     "output_type": "execute_result"
    }
   ],
   "source": [
    "green_letter_mask = (colors == \"g\")\n",
    "green_word_mask = np.all(words[:, green_letter_mask] == guess[green_letter_mask], axis=1)\n",
    "\n",
    "words[green_word_mask]"
   ]
  },
  {
   "cell_type": "markdown",
   "metadata": {},
   "source": [
    "## Yellow"
   ]
  },
  {
   "cell_type": "code",
   "execution_count": 5,
   "metadata": {},
   "outputs": [
    {
     "data": {
      "text/plain": [
       "(chararray(['c', 'r', 'a', 'n', 'e'], dtype='<U1'),\n",
       " chararray(['g', 'b', 'b', 'y', 'g'], dtype='<U1'))"
      ]
     },
     "execution_count": 5,
     "metadata": {},
     "output_type": "execute_result"
    }
   ],
   "source": [
    "guess, colors"
   ]
  },
  {
   "cell_type": "code",
   "execution_count": 6,
   "metadata": {},
   "outputs": [
    {
     "data": {
      "text/plain": [
       "chararray([['a', 'a', 'h', 'e', 'd'],\n",
       "           ['a', 'a', 'l', 'i', 'i'],\n",
       "           ['a', 'a', 'r', 'g', 'h'],\n",
       "           ...,\n",
       "           ['z', 'y', 'g', 'o', 'n'],\n",
       "           ['z', 'y', 'm', 'e', 's'],\n",
       "           ['z', 'y', 'm', 'i', 'c']], dtype='<U1')"
      ]
     },
     "execution_count": 6,
     "metadata": {},
     "output_type": "execute_result"
    }
   ],
   "source": [
    "words"
   ]
  },
  {
   "cell_type": "code",
   "execution_count": 7,
   "metadata": {},
   "outputs": [
    {
     "data": {
      "text/plain": [
       "chararray([['a', 'a', 'h', 'e', 'd'],\n",
       "           ['a', 'a', 'l', 'i', 'i'],\n",
       "           ['a', 'a', 'r', 'g', 'h'],\n",
       "           ...,\n",
       "           ['z', 'y', 'g', 'o', 'n'],\n",
       "           ['z', 'y', 'm', 'e', 's'],\n",
       "           ['z', 'y', 'm', 'i', 'c']], dtype='<U1')"
      ]
     },
     "execution_count": 7,
     "metadata": {},
     "output_type": "execute_result"
    }
   ],
   "source": [
    "letter_not_at_index_mask = np.all(words[:, ~green_letter_mask] != guess[~green_letter_mask], axis=1)\n",
    "words[letter_not_at_index_mask]"
   ]
  },
  {
   "cell_type": "code",
   "execution_count": 8,
   "metadata": {},
   "outputs": [
    {
     "data": {
      "text/plain": [
       "(chararray(['r', 'a', 'n'], dtype='<U1'),\n",
       " chararray(['b', 'b', 'y'], dtype='<U1'))"
      ]
     },
     "execution_count": 8,
     "metadata": {},
     "output_type": "execute_result"
    }
   ],
   "source": [
    "not_green_letters = guess[~green_letter_mask]\n",
    "not_green_colors = colors[~green_letter_mask]\n",
    "not_green_letters, not_green_colors"
   ]
  },
  {
   "cell_type": "code",
   "execution_count": 9,
   "metadata": {},
   "outputs": [
    {
     "data": {
      "text/plain": [
       "(chararray(['a', 'n', 'r'], dtype='<U1'),\n",
       " array([1, 2, 0], dtype=int64),\n",
       " chararray(['b', 'y', 'b'], dtype='<U1'))"
      ]
     },
     "execution_count": 9,
     "metadata": {},
     "output_type": "execute_result"
    }
   ],
   "source": [
    "unique_not_green_letters, unique_not_green_inds = np.unique(not_green_letters, return_index=True)\n",
    "unique_not_green_colors = not_green_colors[unique_not_green_inds]\n",
    "unique_not_green_letters, unique_not_green_inds, unique_not_green_colors"
   ]
  },
  {
   "cell_type": "code",
   "execution_count": 10,
   "metadata": {},
   "outputs": [
    {
     "data": {
      "text/plain": [
       "chararray(['n'], dtype='<U1')"
      ]
     },
     "execution_count": 10,
     "metadata": {},
     "output_type": "execute_result"
    }
   ],
   "source": [
    "unique_yellow_letter_mask = unique_not_green_colors == \"y\"\n",
    "unique_yellow_letters = unique_not_green_letters[unique_yellow_letter_mask]\n",
    "unique_yellow_letters"
   ]
  },
  {
   "cell_type": "code",
   "execution_count": 11,
   "metadata": {},
   "outputs": [
    {
     "data": {
      "text/plain": [
       "array([1])"
      ]
     },
     "execution_count": 11,
     "metadata": {},
     "output_type": "execute_result"
    }
   ],
   "source": [
    "yellow_letter_count_limits = (not_green_letters == unique_yellow_letters[:, np.newaxis]).sum(axis=1)\n",
    "yellow_letter_count_limits"
   ]
  },
  {
   "cell_type": "code",
   "execution_count": 12,
   "metadata": {},
   "outputs": [
    {
     "data": {
      "text/plain": [
       "array([0, 1, 0])"
      ]
     },
     "execution_count": 12,
     "metadata": {},
     "output_type": "execute_result"
    }
   ],
   "source": [
    "letter_count_limits = np.zeros(unique_not_green_letters.size, dtype=np.int32)\n",
    "letter_count_limits[unique_yellow_letter_mask] = yellow_letter_count_limits\n",
    "letter_count_limits"
   ]
  },
  {
   "cell_type": "code",
   "execution_count": 13,
   "metadata": {},
   "outputs": [
    {
     "data": {
      "text/plain": [
       "chararray([['a', 'h', 'e'],\n",
       "           ['a', 'l', 'i'],\n",
       "           ['a', 'r', 'g'],\n",
       "           ...,\n",
       "           ['y', 'g', 'o'],\n",
       "           ['y', 'm', 'e'],\n",
       "           ['y', 'm', 'i']], dtype='<U1')"
      ]
     },
     "execution_count": 13,
     "metadata": {},
     "output_type": "execute_result"
    }
   ],
   "source": [
    "words_not_green_letters = words[:, ~green_letter_mask]\n",
    "words_not_green_letters"
   ]
  },
  {
   "cell_type": "code",
   "execution_count": 14,
   "metadata": {},
   "outputs": [
    {
     "data": {
      "text/plain": [
       "chararray([[['a']],\n",
       "\n",
       "           [['n']],\n",
       "\n",
       "           [['r']]], dtype='<U1')"
      ]
     },
     "execution_count": 14,
     "metadata": {},
     "output_type": "execute_result"
    }
   ],
   "source": [
    "unique_not_green_letters[:, np.newaxis, np.newaxis]"
   ]
  },
  {
   "cell_type": "code",
   "execution_count": 15,
   "metadata": {},
   "outputs": [
    {
     "data": {
      "text/plain": [
       "array([[1, 0, 0],\n",
       "       [1, 0, 0],\n",
       "       [1, 0, 1],\n",
       "       ...,\n",
       "       [0, 0, 0],\n",
       "       [0, 0, 0],\n",
       "       [0, 0, 0]])"
      ]
     },
     "execution_count": 15,
     "metadata": {},
     "output_type": "execute_result"
    }
   ],
   "source": [
    "letter_counts = (words_not_green_letters == unique_not_green_letters[:, np.newaxis, np.newaxis]).sum(axis=2).T\n",
    "letter_counts"
   ]
  },
  {
   "cell_type": "code",
   "execution_count": 16,
   "metadata": {
    "scrolled": true
   },
   "outputs": [
    {
     "data": {
      "text/plain": [
       "chararray([['a', 'b', 'a', 'n', 'd'],\n",
       "           ['a', 'b', 'u', 'n', 'a'],\n",
       "           ['a', 'b', 'u', 'n', 'e'],\n",
       "           ...,\n",
       "           ['z', 'o', 'n', 'e', 's'],\n",
       "           ['z', 'o', 'n', 'k', 's'],\n",
       "           ['z', 'o', 'o', 'n', 's']], dtype='<U1')"
      ]
     },
     "execution_count": 16,
     "metadata": {},
     "output_type": "execute_result"
    }
   ],
   "source": [
    "yellow_above_count_limits_mask = (\n",
    "    letter_counts[:, unique_yellow_letter_mask] >= letter_count_limits[unique_yellow_letter_mask]\n",
    ").all(axis=1)\n",
    "words[yellow_above_count_limits_mask]"
   ]
  },
  {
   "cell_type": "markdown",
   "metadata": {},
   "source": [
    "## Black"
   ]
  },
  {
   "cell_type": "code",
   "execution_count": 17,
   "metadata": {},
   "outputs": [
    {
     "data": {
      "text/plain": [
       "array([[1, 0, 0],\n",
       "       [1, 0, 0],\n",
       "       [1, 0, 1],\n",
       "       ...,\n",
       "       [0, 0, 0],\n",
       "       [0, 0, 0],\n",
       "       [0, 0, 0]])"
      ]
     },
     "execution_count": 17,
     "metadata": {},
     "output_type": "execute_result"
    }
   ],
   "source": [
    "letter_counts"
   ]
  },
  {
   "cell_type": "code",
   "execution_count": 18,
   "metadata": {},
   "outputs": [
    {
     "data": {
      "text/plain": [
       "array([0, 1, 0])"
      ]
     },
     "execution_count": 18,
     "metadata": {},
     "output_type": "execute_result"
    }
   ],
   "source": [
    "letter_count_limits"
   ]
  },
  {
   "cell_type": "code",
   "execution_count": 19,
   "metadata": {
    "scrolled": true
   },
   "outputs": [
    {
     "data": {
      "text/plain": [
       "chararray([['a', 'b', 'b', 'e', 'd'],\n",
       "           ['a', 'b', 'b', 'e', 's'],\n",
       "           ['a', 'b', 'b', 'e', 'y'],\n",
       "           ...,\n",
       "           ['z', 'y', 'g', 'o', 'n'],\n",
       "           ['z', 'y', 'm', 'e', 's'],\n",
       "           ['z', 'y', 'm', 'i', 'c']], dtype='<U1')"
      ]
     },
     "execution_count": 19,
     "metadata": {},
     "output_type": "execute_result"
    }
   ],
   "source": [
    "black_below_count_limits_mask = (\n",
    "    letter_counts[:, ~unique_yellow_letter_mask] <= letter_count_limits[~unique_yellow_letter_mask]\n",
    ").all(axis=1)\n",
    "words[black_below_count_limits_mask]"
   ]
  },
  {
   "cell_type": "markdown",
   "metadata": {},
   "source": [
    "## Apply Masks"
   ]
  },
  {
   "cell_type": "code",
   "execution_count": 20,
   "metadata": {},
   "outputs": [
    {
     "data": {
      "text/plain": [
       "chararray([['c', 'e', 'n', 's', 'e'],\n",
       "           ['c', 'o', 'n', 'g', 'e'],\n",
       "           ['c', 'o', 'n', 't', 'e']], dtype='<U1')"
      ]
     },
     "execution_count": 20,
     "metadata": {},
     "output_type": "execute_result"
    }
   ],
   "source": [
    "words[green_word_mask & letter_not_at_index_mask & yellow_above_count_limits_mask & black_below_count_limits_mask]"
   ]
  },
  {
   "cell_type": "markdown",
   "metadata": {},
   "source": [
    "## Full Filter"
   ]
  },
  {
   "cell_type": "code",
   "execution_count": 21,
   "metadata": {},
   "outputs": [],
   "source": [
    "def get_possible_words(guess, colors, words):\n",
    "    possible_words = words.copy()\n",
    "    \n",
    "    # Green.\n",
    "    green_letter_mask = (colors == \"g\")\n",
    "    green_word_mask = np.all(possible_words[:, green_letter_mask] == guess[green_letter_mask], axis=1)\n",
    "\n",
    "    possible_words = possible_words[green_word_mask]\n",
    "    \n",
    "    # Yellow and Black: letter not at ind.\n",
    "    letter_not_at_index_mask = np.all(possible_words[:, ~green_letter_mask] != guess[~green_letter_mask], axis=1)\n",
    "    possible_words = possible_words[letter_not_at_index_mask]\n",
    "    \n",
    "    # Letter count limits.\n",
    "    not_green_letters = guess[~green_letter_mask]\n",
    "    not_green_colors = colors[~green_letter_mask]\n",
    "    \n",
    "    unique_not_green_letters, unique_not_green_inds = np.unique(not_green_letters, return_index=True)\n",
    "    unique_not_green_colors = not_green_colors[unique_not_green_inds]\n",
    "    \n",
    "    unique_yellow_letter_mask = unique_not_green_colors == \"y\"\n",
    "    unique_yellow_letters = unique_not_green_letters[unique_yellow_letter_mask]\n",
    "    \n",
    "    yellow_letter_count_limits = (not_green_letters == unique_yellow_letters[:, np.newaxis]).sum(axis=1)\n",
    "    \n",
    "    letter_count_limits = np.zeros(unique_not_green_letters.size, dtype=np.int32)\n",
    "    letter_count_limits[unique_yellow_letter_mask] = yellow_letter_count_limits\n",
    "    \n",
    "    # Letter counts.\n",
    "    possible_words_not_green_letters = possible_words[:, ~green_letter_mask]\n",
    "    \n",
    "    letter_counts = (\n",
    "        possible_words_not_green_letters == unique_not_green_letters[:, np.newaxis, np.newaxis]\n",
    "    ).sum(axis=2).T\n",
    "    \n",
    "    # Yellow mask.\n",
    "    yellow_above_count_limits_mask = (\n",
    "        letter_counts[:, unique_yellow_letter_mask] >= letter_count_limits[unique_yellow_letter_mask]\n",
    "    ).all(axis=1)\n",
    "    \n",
    "    # Black mask.\n",
    "    black_below_count_limits_mask = (\n",
    "        letter_counts[:, ~unique_yellow_letter_mask] <= letter_count_limits[~unique_yellow_letter_mask]\n",
    "    ).all(axis=1)\n",
    "    \n",
    "    # Apply Yellow and Black masks.\n",
    "    possible_words = possible_words[yellow_above_count_limits_mask & black_below_count_limits_mask]\n",
    "    \n",
    "    return possible_words"
   ]
  },
  {
   "cell_type": "markdown",
   "metadata": {},
   "source": [
    "# Rank"
   ]
  },
  {
   "cell_type": "code",
   "execution_count": 22,
   "metadata": {},
   "outputs": [],
   "source": [
    "import itertools"
   ]
  },
  {
   "cell_type": "code",
   "execution_count": 23,
   "metadata": {},
   "outputs": [
    {
     "data": {
      "text/plain": [
       "chararray([['g', 'g', 'g', 'g', 'g'],\n",
       "           ['g', 'g', 'g', 'g', 'y'],\n",
       "           ['g', 'g', 'g', 'g', 'b'],\n",
       "           ...,\n",
       "           ['b', 'b', 'b', 'b', 'g'],\n",
       "           ['b', 'b', 'b', 'b', 'y'],\n",
       "           ['b', 'b', 'b', 'b', 'b']], dtype='<U1')"
      ]
     },
     "execution_count": 23,
     "metadata": {},
     "output_type": "execute_result"
    }
   ],
   "source": [
    "possible_colors = np.char.array(list(itertools.product(\"gyb\", repeat=5)))\n",
    "possible_colors"
   ]
  },
  {
   "cell_type": "code",
   "execution_count": 24,
   "metadata": {},
   "outputs": [],
   "source": [
    "def rank_words(words):\n",
    "    predicted_remaining_words = np.zeros(words.shape[0])\n",
    "\n",
    "    print(f\"\\nRanking {words.shape[0]} words:\")\n",
    "    for (i, guess) in enumerate(words):\n",
    "        if (i % 25 == 0):\n",
    "            print(f\"Ranking word: {i}\")\n",
    "        \n",
    "        total_remaining_words = 0\n",
    "        for colors in possible_colors:\n",
    "            n_possible_words = get_possible_words(guess, colors, words).shape[0]\n",
    "            total_remaining_words += (n_possible_words / words.shape[0]) * n_possible_words\n",
    "\n",
    "        predicted_remaining_words[i] = total_remaining_words\n",
    "\n",
    "    sorted_inds = np.argsort(predicted_remaining_words)\n",
    "    \n",
    "    return (words[sorted_inds], predicted_remaining_words[sorted_inds])"
   ]
  },
  {
   "cell_type": "markdown",
   "metadata": {},
   "source": [
    "# Show words"
   ]
  },
  {
   "cell_type": "code",
   "execution_count": 25,
   "metadata": {},
   "outputs": [],
   "source": [
    "def show_words(words, predicted_remaining_words, n_words):\n",
    "    print(\"\\nRanked Words:\")\n",
    "    for i in range(min(words.shape[0], n_words)):\n",
    "        print(f\"{i}. {''.join(words[i])}   {predicted_remaining_words[i]}\")"
   ]
  },
  {
   "cell_type": "markdown",
   "metadata": {},
   "source": [
    "# Run"
   ]
  },
  {
   "cell_type": "code",
   "execution_count": 26,
   "metadata": {},
   "outputs": [
    {
     "name": "stdout",
     "output_type": "stream",
     "text": [
      "----------WORDLE SOLVER----------\n",
      "\n",
      "Guess:  salet\n",
      "Colors: gggbb\n",
      "\n",
      "Ranking 13 words:\n",
      "Ranking word: 0\n",
      "\n",
      "Ranked Words:\n",
      "0. salal   4.384615384615385\n",
      "1. salol   4.384615384615385\n",
      "2. salpa   4.384615384615385\n",
      "3. salop   4.538461538461538\n",
      "4. salsa   5.461538461538462\n",
      "5. salps   6.538461538461538\n",
      "6. salad   6.6923076923076925\n",
      "7. salon   6.6923076923076925\n",
      "8. salvo   7.0\n",
      "9. salic   7.923076923076923\n",
      "10. salix   7.923076923076923\n",
      "11. sally   8.076923076923077\n",
      "12. salmi   8.076923076923077\n",
      "\n",
      "Guess:  salad\n",
      "Colors: gggyb\n",
      "\n",
      "Ranking 2 words:\n",
      "Ranking word: 0\n",
      "\n",
      "Ranked Words:\n",
      "0. salpa   1.0\n",
      "1. salsa   1.0\n",
      "\n",
      "Guess:  salsa\n",
      "Colors: ggggg\n",
      "\n",
      "Ranking 1 words:\n",
      "Ranking word: 0\n",
      "\n",
      "Ranked Words:\n",
      "0. salsa   1.0\n",
      "\n",
      "salsa is the word!\n",
      "\n",
      "Thanks for playing!\n"
     ]
    }
   ],
   "source": [
    "words = get_all_valid_words()\n",
    "\n",
    "print(\"----------WORDLE SOLVER----------\")\n",
    "\n",
    "cont = True\n",
    "while (cont):\n",
    "    guess, colors = get_guess_colors()\n",
    "    words = get_possible_words(guess, colors, words)\n",
    "    \n",
    "    sorted_words, predicted_remaining_words = rank_words(words)\n",
    "    show_words(sorted_words, predicted_remaining_words, 15)\n",
    "    \n",
    "    if (words.shape[0] == 1):\n",
    "        print(f\"\\n{''.join(words[0])} is the word!\")\n",
    "        cont = False\n",
    "    elif (words.shape[0] == 0):\n",
    "        print(f\"\\nNo words match that description!\")\n",
    "        cont = False\n",
    "        \n",
    "print(\"\\nThanks for playing!\")"
   ]
  },
  {
   "cell_type": "code",
   "execution_count": null,
   "metadata": {},
   "outputs": [],
   "source": []
  }
 ],
 "metadata": {
  "kernelspec": {
   "display_name": "Python 3 (ipykernel)",
   "language": "python",
   "name": "python3"
  },
  "language_info": {
   "codemirror_mode": {
    "name": "ipython",
    "version": 3
   },
   "file_extension": ".py",
   "mimetype": "text/x-python",
   "name": "python",
   "nbconvert_exporter": "python",
   "pygments_lexer": "ipython3",
   "version": "3.11.0"
  }
 },
 "nbformat": 4,
 "nbformat_minor": 2
}
